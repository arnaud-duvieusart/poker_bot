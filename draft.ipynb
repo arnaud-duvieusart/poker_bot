{
 "cells": [
  {
   "cell_type": "code",
   "execution_count": 6,
   "metadata": {},
   "outputs": [],
   "source": [
    "from agents.AbstractAgent import AbstractAgent\n",
    "from game.Card import Card\n",
    "from agents.AggressiveDummy import AggressiveDummy\n",
    "from agents.MirrorDummy import MirrorDummy\n",
    "from agents.RaiseDummy import RaiseDummy\n",
    "from agents.CallDummy import CallDummy\n",
    "from agents.RandomDummy import RandomDummy\n",
    "from agents.AllInDummy import AllInDummy\n",
    "from agents.CheckFoldDummy import CheckFoldDummy\n",
    "\n",
    "from game.Game import Game\n",
    "import logging\n",
    "import numpy as np\n",
    "import time\n",
    "from tqdm import tqdm\n",
    "\n",
    "class Stat:\n",
    "    \n",
    "    def __init__(self, rate, returns):\n",
    "        self.rate = rate\n",
    "        self.returns = returns\n",
    "        \n",
    "    def __repr__(self):\n",
    "        avg = sum(self.returns)/len(self.returns)\n",
    "        var = np.var(self.returns)\n",
    "        return '{}% win rate, avg gain: {}, gain var: {}%'.format(self.rate, avg, var)\n",
    "    \n",
    "\n",
    "class Poll:\n",
    "    \n",
    "    def __init__(self, agents):\n",
    "        self.agents = agents\n",
    "        \n",
    "        \n",
    "    def evaluate(self, agent, gamesCount=100, roundCount=10):\n",
    "        start = time.time()\n",
    "        stats = {}\n",
    "        \n",
    "        for dummy in tqdm(self.agents):\n",
    "            \n",
    "            # Play each player X times (Full games).\n",
    "            score = 0\n",
    "            returns = []\n",
    "            for _ in range(gamesCount):\n",
    "                \n",
    "                # New game with new stacks\n",
    "                game = Game(agent, dummy, level=logging.DEBUG)\n",
    "\n",
    "                # Play X rounds\n",
    "                game.play(roundCount=roundCount)\n",
    "\n",
    "                # Save stats\n",
    "                if agent.money_left > dummy.money_left:\n",
    "                    score = score + 1\n",
    "                elif agent.money_left == dummy.money_left:\n",
    "                    score = score + 0.5\n",
    "                returns.append(agent.money_left)\n",
    "                  \n",
    "            rate = score / gamesCount\n",
    "            stats[dummy] = Stat(rate, returns)\n",
    "            \n",
    "        end = time.time()\n",
    "        print(\"time elapsed: {}s\".format(end - start))\n",
    "        return stats"
   ]
  },
  {
   "cell_type": "code",
   "execution_count": 2,
   "metadata": {
    "scrolled": true
   },
   "outputs": [],
   "source": [
    "player1 = AggressiveDummy(\"henry\", 10000)\n",
    "player2 = MirrorDummy(\"arnaud\", 10000)\n",
    "player3 = RaiseDummy(\"matthieu\", 10000)\n",
    "player4 = CallDummy(\"greg\", 10000)\n",
    "player5 = RandomDummy(\"tarek\", 10000)\n",
    "player6 = AllInDummy(\"raph\", 10000)\n",
    "player7 = CheckFoldDummy(\"julien\", 10000)\n",
    "players = [player2, player3, player4, player5, player6, player7]\n",
    "\n",
    "poll = Poll(players)"
   ]
  },
  {
   "cell_type": "code",
   "execution_count": 3,
   "metadata": {},
   "outputs": [
    {
     "name": "stderr",
     "output_type": "stream",
     "text": [
      "  0%|          | 0/6 [00:00<?, ?it/s]\n"
     ]
    },
    {
     "ename": "AttributeError",
     "evalue": "'State' object has no attribute 'board_cards'",
     "output_type": "error",
     "traceback": [
      "\u001b[0;31m---------------------------------------------------------------------------\u001b[0m",
      "\u001b[0;31mAttributeError\u001b[0m                            Traceback (most recent call last)",
      "\u001b[0;32m<ipython-input-3-c01b68abd802>\u001b[0m in \u001b[0;36m<module>\u001b[0;34m()\u001b[0m\n\u001b[0;32m----> 1\u001b[0;31m \u001b[0mpoll\u001b[0m\u001b[0;34m.\u001b[0m\u001b[0mevaluate\u001b[0m\u001b[0;34m(\u001b[0m\u001b[0mplayer1\u001b[0m\u001b[0;34m,\u001b[0m \u001b[0mgamesCount\u001b[0m\u001b[0;34m=\u001b[0m\u001b[0;36m5\u001b[0m\u001b[0;34m)\u001b[0m\u001b[0;34m\u001b[0m\u001b[0m\n\u001b[0m",
      "\u001b[0;32m<ipython-input-1-0bde59e4523e>\u001b[0m in \u001b[0;36mevaluate\u001b[0;34m(self, agent, gamesCount, roundCount)\u001b[0m\n\u001b[1;32m     48\u001b[0m \u001b[0;34m\u001b[0m\u001b[0m\n\u001b[1;32m     49\u001b[0m                 \u001b[0;31m# Play X rounds\u001b[0m\u001b[0;34m\u001b[0m\u001b[0;34m\u001b[0m\u001b[0m\n\u001b[0;32m---> 50\u001b[0;31m                 \u001b[0mgame\u001b[0m\u001b[0;34m.\u001b[0m\u001b[0mplay\u001b[0m\u001b[0;34m(\u001b[0m\u001b[0mroundCount\u001b[0m\u001b[0;34m=\u001b[0m\u001b[0mroundCount\u001b[0m\u001b[0;34m)\u001b[0m\u001b[0;34m\u001b[0m\u001b[0m\n\u001b[0m\u001b[1;32m     51\u001b[0m \u001b[0;34m\u001b[0m\u001b[0m\n\u001b[1;32m     52\u001b[0m                 \u001b[0;31m# Save stats\u001b[0m\u001b[0;34m\u001b[0m\u001b[0;34m\u001b[0m\u001b[0m\n",
      "\u001b[0;32m~/Documents/EPFL/poker_bot/game/Game.py\u001b[0m in \u001b[0;36mplay\u001b[0;34m(self, roundCount, level)\u001b[0m\n\u001b[1;32m     47\u001b[0m \u001b[0;34m\u001b[0m\u001b[0m\n\u001b[1;32m     48\u001b[0m         \u001b[0;32mfor\u001b[0m \u001b[0m_\u001b[0m \u001b[0;32min\u001b[0m \u001b[0mrange\u001b[0m\u001b[0;34m(\u001b[0m\u001b[0mroundCount\u001b[0m\u001b[0;34m)\u001b[0m\u001b[0;34m:\u001b[0m\u001b[0;34m\u001b[0m\u001b[0m\n\u001b[0;32m---> 49\u001b[0;31m             \u001b[0mself\u001b[0m\u001b[0;34m.\u001b[0m\u001b[0mplay_round\u001b[0m\u001b[0;34m(\u001b[0m\u001b[0;34m)\u001b[0m\u001b[0;34m\u001b[0m\u001b[0m\n\u001b[0m\u001b[1;32m     50\u001b[0m \u001b[0;34m\u001b[0m\u001b[0m\n\u001b[1;32m     51\u001b[0m \u001b[0;34m\u001b[0m\u001b[0m\n",
      "\u001b[0;32m~/Documents/EPFL/poker_bot/game/Game.py\u001b[0m in \u001b[0;36mplay_round\u001b[0;34m(self)\u001b[0m\n\u001b[1;32m     61\u001b[0m         \u001b[0;31m# Draw Flop\u001b[0m\u001b[0;34m\u001b[0m\u001b[0;34m\u001b[0m\u001b[0m\n\u001b[1;32m     62\u001b[0m         \u001b[0;32mfor\u001b[0m \u001b[0m_\u001b[0m \u001b[0;32min\u001b[0m \u001b[0mrange\u001b[0m\u001b[0;34m(\u001b[0m\u001b[0;36m3\u001b[0m\u001b[0;34m)\u001b[0m\u001b[0;34m:\u001b[0m\u001b[0;34m\u001b[0m\u001b[0m\n\u001b[0;32m---> 63\u001b[0;31m             \u001b[0mself\u001b[0m\u001b[0;34m.\u001b[0m\u001b[0mstate\u001b[0m\u001b[0;34m.\u001b[0m\u001b[0mboard_cards\u001b[0m\u001b[0;34m.\u001b[0m\u001b[0mappend\u001b[0m\u001b[0;34m(\u001b[0m\u001b[0mself\u001b[0m\u001b[0;34m.\u001b[0m\u001b[0mdeck\u001b[0m\u001b[0;34m.\u001b[0m\u001b[0mpop_card\u001b[0m\u001b[0;34m(\u001b[0m\u001b[0;34m)\u001b[0m\u001b[0;34m)\u001b[0m\u001b[0;34m\u001b[0m\u001b[0m\n\u001b[0m\u001b[1;32m     64\u001b[0m         \u001b[0moutput\u001b[0m \u001b[0;34m=\u001b[0m \u001b[0mself\u001b[0m\u001b[0;34m.\u001b[0m\u001b[0mplay_step\u001b[0m\u001b[0;34m(\u001b[0m\u001b[0;34m)\u001b[0m\u001b[0;34m\u001b[0m\u001b[0m\n\u001b[1;32m     65\u001b[0m         \u001b[0;32mif\u001b[0m \u001b[0moutput\u001b[0m\u001b[0;34m:\u001b[0m\u001b[0;34m\u001b[0m\u001b[0m\n",
      "\u001b[0;31mAttributeError\u001b[0m: 'State' object has no attribute 'board_cards'"
     ]
    }
   ],
   "source": [
    "poll.evaluate(player1, gamesCount=5)"
   ]
  },
  {
   "cell_type": "code",
   "execution_count": null,
   "metadata": {
    "scrolled": true
   },
   "outputs": [],
   "source": [
    "# for i in range(20):\n",
    "#     print(game.play(), player1.money_left, player2.money_left)\n",
    "\n",
    "game.play(), player1.money_left, player2.money_left"
   ]
  },
  {
   "cell_type": "code",
   "execution_count": 1,
   "metadata": {},
   "outputs": [],
   "source": [
    "from agents.AbstractAgent import State, Move"
   ]
  },
  {
   "cell_type": "code",
   "execution_count": 10,
   "metadata": {},
   "outputs": [],
   "source": [
    "move1 = Move(Move.CALL, 0, 2, 1)\n",
    "move2 = Move(Move.CALL, 0, 0, 2)"
   ]
  },
  {
   "cell_type": "code",
   "execution_count": 12,
   "metadata": {},
   "outputs": [
    {
     "data": {
      "text/plain": [
       "True"
      ]
     },
     "execution_count": 12,
     "metadata": {},
     "output_type": "execute_result"
    }
   ],
   "source": [
    "move1 != move2"
   ]
  },
  {
   "cell_type": "code",
   "execution_count": null,
   "metadata": {},
   "outputs": [],
   "source": []
  }
 ],
 "metadata": {
  "kernelspec": {
   "display_name": "Python 3",
   "language": "python",
   "name": "python3"
  },
  "language_info": {
   "codemirror_mode": {
    "name": "ipython",
    "version": 3
   },
   "file_extension": ".py",
   "mimetype": "text/x-python",
   "name": "python",
   "nbconvert_exporter": "python",
   "pygments_lexer": "ipython3",
   "version": "3.7.7"
  }
 },
 "nbformat": 4,
 "nbformat_minor": 2
}
