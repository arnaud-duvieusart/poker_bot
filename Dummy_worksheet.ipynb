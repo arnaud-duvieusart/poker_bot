{
 "cells": [
  {
   "cell_type": "code",
   "execution_count": 1,
   "metadata": {},
   "outputs": [],
   "source": [
    "from agents.AbstractAgent import AbstractAgent, Move, State\n",
    "from game.Card import Card\n",
    "from agents.AggressiveDummy import AggressiveDummy\n",
    "from agents.MirrorDummy import MirrorDummy\n",
    "from agents.RaiseDummy import RaiseDummy\n",
    "from agents.CallDummy import CallDummy\n",
    "from agents.RandomDummy import RandomDummy\n",
    "from agents.AllInDummy import AllInDummy\n",
    "from agents.CheckFoldDummy import CheckFoldDummy\n",
    "\n",
    "\n",
    "from game.Game import Game\n",
    "import random as rd"
   ]
  },
  {
   "cell_type": "code",
   "execution_count": 8,
   "metadata": {},
   "outputs": [],
   "source": [
    "player1 = RandomDummy(\"henry\", 10000)\n",
    "player2 = RaiseDummy(\"arnaud\", 10000)\n",
    "\n",
    "game = Game(player1, player2)"
   ]
  },
  {
   "cell_type": "code",
   "execution_count": 9,
   "metadata": {
    "scrolled": true
   },
   "outputs": [
    {
     "name": "stdout",
     "output_type": "stream",
     "text": [
      "None 10000 10000\n",
      "None 10000 10000\n",
      "None 10000 10000\n",
      "None 10000 10000\n",
      "None 10000 10000\n",
      "None 10000 10000\n",
      "None 10000 10000\n",
      "None 10000 10000\n",
      "None 10000 10000\n",
      "None 10000 10000\n",
      "None 10000 10000\n",
      "None 10000 10000\n",
      "None 10000 10000\n",
      "None 10000 10000\n",
      "None 10000 10000\n",
      "None 10000 10000\n",
      "None 10000 10000\n",
      "None 10000 10000\n",
      "None 10000 10000\n",
      "None 10000 10000\n"
     ]
    }
   ],
   "source": [
    "for i in range(20):\n",
    "    print(game.play(), player1.money_left, player2.money_left)"
   ]
  },
  {
   "cell_type": "markdown",
   "metadata": {},
   "source": [
    "# Main Strategies agents\n",
    "\n",
    "Several strategies ([ref](https://upswingpoker.com/quick-poker-tips-texas-holdem/)):\n",
    "\n",
    "1. Play Fewer Hands And Play Them Aggressively  \n",
    "2. Don't Be The First Player To Limp  \n",
    "3. Semi-Bluff Aggressively with Your Draws  \n",
    "4. Fast-Play Your Strong Hands to Build the Pot and Make More Money  \n",
    "5. Defend Your Big Blind (with the Right Hands)\n",
    "6. Fold When You're Unsure\n",
    "7. Attack When Your Opponent Shows Weakness\n",
    "8. Play Solid Poker Early in Tournaments and Don't Worry About Survival\n",
    "9. Only Play If You Feel Like It\n",
    "10. Only Play In Good Games\n",
    "\n",
    "\n",
    "[Tips](https://www.mypokercoaching.com/top-best-poker-tips-beginners/)"
   ]
  },
  {
   "cell_type": "code",
   "execution_count": null,
   "metadata": {},
   "outputs": [],
   "source": [
    "class BluffAgent(AbstractAgent):\n",
    "    \n",
    "    def __init__(self, name, monney_left):\n",
    "         super().__init__(name, monney_left)\n",
    "            \n",
    "    def act(self, state):\n",
    "        \n",
    "        "
   ]
  },
  {
   "cell_type": "markdown",
   "metadata": {},
   "source": [
    "* **Position** in poker refers to the order in which players are seated around the table and the related poker strategy implications. Players who act first are in \"early position\"; players who act later are in \"late position\"; players who act in between are in \"middle position\". A player \"has position\" on opponents acting before him and is \"out of position\" to opponents acting after him. Because players act in clockwise order, a player \"has position\" on opponents seated to his right, except when the opponent has the button and certain cases in the first betting round of games with blinds. ([doc](https://en.wikipedia.org/wiki/Position_(poker)))  \n",
    "\n",
    "* A **tell** in poker is a change in a player's behavior or demeanor that is claimed by some to give clues to that player's assessment of their hand. A player gains an advantage if they observe and understand the meaning of another player's tell, particularly if the tell is unconscious and reliable. Sometimes a player may fake a tell, hoping to induce their opponents to make poor judgments in response to the false tell. More often, people try to avoid giving out a tell, by maintaining a poker face regardless of how strong or weak their hand is. ([doc](https://en.wikipedia.org/wiki/Tell_(poker)))  \n",
    "\n",
    "* In the game of poker, opens and raises are considered **aggressive plays**, while calls and checks are considered passive (though a check-raise would be considered a very aggressive play). It is said that \"aggression has its own value\", meaning that often aggressive plays can make money with weak hands because of bluff value. In general, opponents must respond to aggressive play by playing more loosely, which offers more opportunities to make mistakes. ([doc](https://en.wikipedia.org/wiki/Aggression_(poker)))  \n",
    "\n",
    "* In poker, a **steal** is a type of a bluff, a raise during the first betting round made with an inferior hand and meant to make other players fold superior hands because of shown strength. A steal is normally either an \"ante steal\" or \"blind steal\" (depending on whether the game being played uses antes or blinds). ([doc](https://en.wikipedia.org/wiki/Steal_(poker)))  \n",
    "\n",
    "* In poker, **pot odds** are the ratio of the current size of the pot to the cost of a contemplated call. Pot odds are often compared to the probability of winning a hand with a future card in order to estimate the call's expected value.  ([doc](https://en.wikipedia.org/wiki/Pot_odds))  \n",
    "\n",
    "* In the card game of poker, a **bluff** is a bet or raise made with a hand which is not thought to be the best hand. To bluff is to make such a bet. The objective of a bluff is to induce a fold by at least one opponent who holds a better hand. The size and frequency of a bluff determines its profitability to the bluffer. By extension, the phrase \"calling somebody's bluff\" is often used outside the context of poker to describe situations where one person demands that another proves a claim, or proves that they are not being deceptive.  \n",
    "\n",
    "* **Slow playing** (also called sandbagging or trapping) is a deceptive play in poker where a player bets weakly or passively with a strong holding. It is the opposite of fast playing. A flat call can be a form of slow playing. The objective of slow playing is to lure opponents into a pot who might fold to a raise, or to cause them to bet more strongly than they would if the player had played aggressively (bet or raised). Slow playing sacrifices protection against hands that may improve and risks losing the pot-building value of a bet if the opponent also checks. ([doc](https://en.wikipedia.org/wiki/Slow_play))  \n",
    "\n"
   ]
  },
  {
   "cell_type": "code",
   "execution_count": null,
   "metadata": {},
   "outputs": [],
   "source": [
    "def "
   ]
  }
 ],
 "metadata": {
  "kernelspec": {
   "display_name": "Python 3",
   "language": "python",
   "name": "python3"
  },
  "language_info": {
   "codemirror_mode": {
    "name": "ipython",
    "version": 3
   },
   "file_extension": ".py",
   "mimetype": "text/x-python",
   "name": "python",
   "nbconvert_exporter": "python",
   "pygments_lexer": "ipython3",
   "version": "3.7.7"
  }
 },
 "nbformat": 4,
 "nbformat_minor": 4
}
